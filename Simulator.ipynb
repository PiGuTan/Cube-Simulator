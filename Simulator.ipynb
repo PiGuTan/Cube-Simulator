{
 "cells": [
  {
   "cell_type": "code",
   "execution_count": 1,
   "metadata": {},
   "outputs": [],
   "source": [
    "import pandas as pd"
   ]
  },
  {
   "cell_type": "markdown",
   "metadata": {},
   "source": [
    "## Creating variables\n",
    "### human input\n",
    "equip - equipment types\n",
    "\n",
    "cube_name - name of the cube <b>this will override prime_rates</b>\n",
    "\n",
    "desired_lines(tuple) - starts with lines that is needed <br>\n",
    "    e.g. Critical in Critical rate/Damage\n",
    "\n",
    "desired_number - number of desired lines from desired_lines\n",
    "\n",
    "prime_rates - the chance of priming each line a tuple of any length \n",
    "\n",
    "Tiers (tuple) - the rank of equipment and sub line Currently only support legend with unique sub\n",
    "\n",
    "main_line - string that shoes the rank of first line\n",
    "\n",
    "additional - boolean to check if equip is add pot\n",
    "\n",
    "### generated\n",
    "\n",
    "sub_line - string that generate the second line\n",
    "\n",
    "column_header(list) - generated from  varaible prime_rates the header in output csv\n",
    "\n",
    "Lines (dicctionary) - the possible lines that could come out <br>\n",
    "    keys - elements in Tiers\n",
    "    value- dataframes from read csv in lines weight format"
   ]
  },
  {
   "cell_type": "code",
   "execution_count": 2,
   "metadata": {},
   "outputs": [],
   "source": [
    "equip=r\"Weapon\"\n",
    "cube_name=\"Additional\" #leave it as a blank string if you are lanning to input prime_rates\n",
    "prime_rates=(100,00,0) # Can put None if cube_name and main_line is given\n",
    "desired_lines=(\"ATT\")\n",
    "desired_number=2\n",
    "main_line=\"Legend\" # \"Epic\", \"Unique\", \"Legend\"\n",
    "additional = True\n",
    "column_header= [] # [\"line1\", \"line2\", \"line3\",...,\"desired\"]\n",
    "for x in range(len(prime_rates)):\n",
    "    column_header.append(\"line\"+ str(x+1))\n",
    "column_header.append(\"desired\")\n",
    "Tiers= (\"Rare\", \"Epic\", \"Unique\", \"Legend\")\n",
    "sub_line=Tiers[Tiers.index(main_line)-1]\n",
    "Lines={}"
   ]
  },
  {
   "cell_type": "code",
   "execution_count": 3,
   "metadata": {},
   "outputs": [
    {
     "name": "stdout",
     "output_type": "stream",
     "text": [
      "(100.0, 0.4975, 0.4975)\n"
     ]
    }
   ],
   "source": [
    "if cube_name!='':\n",
    "    df=pd.read_csv(\"Resources/prime rates.csv\", index_col=0, na_values='')\n",
    "    x=df.loc[:,main_line][cube_name]\n",
    "    assert x!='-', \"can't cube {0} equip with {1} cube\".format(main_line,cube_name)\n",
    "    prime_rates=tuple(map(float, x.split(',')))\n",
    "    print(prime_rates)"
   ]
  },
  {
   "cell_type": "markdown",
   "metadata": {},
   "source": [
    "## Accessing data frame\n",
    "\n",
    "df.columns # shows header\n",
    "\n",
    "df.Line or df.weight # shoes specific columns\n"
   ]
  },
  {
   "cell_type": "code",
   "execution_count": 4,
   "metadata": {},
   "outputs": [
    {
     "name": "stdout",
     "output_type": "stream",
     "text": [
      "(19, 2)\n",
      "(20, 2)\n"
     ]
    }
   ],
   "source": [
    "\"\"\"\n",
    "Checking the dataframe in Lines\n",
    "\"\"\"\n",
    "for i in (main_line,sub_line):\n",
    "    try:\n",
    "        Lines[i]=pd.read_csv(\"Resources/{0}/{1}{2}.csv\".format(equip,\"Add_\" if additional else \"\" ,i))\n",
    "    except FileNotFoundError:\n",
    "        print(\"No records for\",i, equip,)\n",
    "print(Lines[sub_line].shape) # shows all number of lines\n",
    "print(Lines[main_line].shape)\n"
   ]
  },
  {
   "cell_type": "code",
   "execution_count": 5,
   "metadata": {},
   "outputs": [
    {
     "name": "stdout",
     "output_type": "stream",
     "text": [
      "Legend\n",
      "['Max HP +10%', 'Max MP +10%', 'ATT +12%', 'MATT +12%', 'Critical Chance +12%', 'STR +12%', 'DEX +12%', 'INT +12%', 'LUK +12%', 'Damage +12%', 'All Stats +9%', 'STR +2 per 10 Character Levels', 'DEX +2 per 10 Character Levels', 'INT +2 per 10 Character Levels', 'LUK +2 per 10 Character Levels', 'ATT +1 per 10 Character Levels', 'MATT +1 per 10 Character Levels', 'Status Resistance +5', 'Ignore Enemy Defense +5%', 'Damage when attacking boss monsters +18%']\n",
      "Unique\n",
      "['Max HP +7%', 'Max MP +7%', 'ATT +9%', 'MATT +9%', 'Critical Chance +9%', 'STR +9%', 'DEX +9%', 'INT +9%', 'LUK +9%', 'Damage +9%', 'All Stats +6%', 'STR +1 per 10 Character Levels', 'DEX +1 per 10 Character Levels', 'INT +1 per 10 Character Levels', 'LUK +1 per 10 Character Levels', '15% chance to recover 95 HP when attacking', '15% chance to recover 95 MP when attacking', 'Ignore Enemy Defense +4%', 'Damage when attacking boss monsters +12%']\n"
     ]
    }
   ],
   "source": [
    "\"\"\"\n",
    "printing possible lines\n",
    "\"\"\"\n",
    "for x in Lines.items():\n",
    "    print(x[0])\n",
    "    print(list(x[1].Line))"
   ]
  },
  {
   "cell_type": "markdown",
   "metadata": {},
   "source": [
    "## Picking a line from Legend or unique"
   ]
  },
  {
   "cell_type": "code",
   "execution_count": 6,
   "metadata": {},
   "outputs": [],
   "source": [
    "import random"
   ]
  },
  {
   "cell_type": "code",
   "execution_count": 7,
   "metadata": {},
   "outputs": [],
   "source": [
    "def cube(prime_rate):\n",
    "    equip_line=[]\n",
    "    for i in prime_rate:\n",
    "        if random.randint(1, 1000000)<=int(i*10000):\n",
    "            equip_line+=random.choices(list(Lines[main_line].Line), weights=tuple(Lines[main_line].Weight), k=1)# generate main line\n",
    "        else:\n",
    "            equip_line+=random.choices(list(Lines[sub_line].Line), weights=tuple(Lines[sub_line].Weight), k=1)# generate secondary line\n",
    "    return equip_line"
   ]
  },
  {
   "cell_type": "code",
   "execution_count": 8,
   "metadata": {},
   "outputs": [],
   "source": [
    "\"\"\"Test cubes\"\"\"\n",
    "df=[] #df represent the full data\n",
    "for x in range(100000): \n",
    "    result=cube(prime_rates) #result is a list\n",
    "    i=0\n",
    "    for y in result: #y is a string\n",
    "            if y.startswith(desired_lines):\n",
    "                i+=1\n",
    "    result.append(i)\n",
    "    df.append(result)\n",
    "del x,y\n",
    "df=pd.DataFrame(df,columns=column_header) \n",
    "# df1=df[df.line1.str.startswith(\"C\")]\n",
    "df1=df[df.desired>=desired_number]\n",
    "df.to_csv(r'all lines.csv')\n",
    "df1.to_csv(r\"desired.csv\")\n"
   ]
  },
  {
   "cell_type": "code",
   "execution_count": 9,
   "metadata": {},
   "outputs": [
    {
     "name": "stdout",
     "output_type": "stream",
     "text": [
      "(100000, 4)\n",
      "(869, 4)\n",
      "0.869 %\n"
     ]
    }
   ],
   "source": [
    "print(df.shape)\n",
    "print(df1.shape)\n",
    "print(df1.shape[0]/df.shape[0]*100,\"%\")"
   ]
  },
  {
   "cell_type": "code",
   "execution_count": null,
   "metadata": {},
   "outputs": [],
   "source": []
  }
 ],
 "metadata": {
  "kernelspec": {
   "display_name": "Python 3.10.5 64-bit (windows store)",
   "language": "python",
   "name": "python3"
  },
  "language_info": {
   "codemirror_mode": {
    "name": "ipython",
    "version": 3
   },
   "file_extension": ".py",
   "mimetype": "text/x-python",
   "name": "python",
   "nbconvert_exporter": "python",
   "pygments_lexer": "ipython3",
   "version": "3.10.5"
  },
  "orig_nbformat": 4,
  "vscode": {
   "interpreter": {
    "hash": "3ecc5a46d9255ca6a4a479c77effbc6fe005e8f1c5654d929086a0876c4f0e34"
   }
  }
 },
 "nbformat": 4,
 "nbformat_minor": 2
}
