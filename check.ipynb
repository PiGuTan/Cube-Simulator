{
 "cells": [
  {
   "cell_type": "code",
   "execution_count": 12,
   "metadata": {},
   "outputs": [],
   "source": [
    "import pandas as pd"
   ]
  },
  {
   "cell_type": "code",
   "execution_count": 13,
   "metadata": {},
   "outputs": [],
   "source": [
    "class cube:\n",
    "    def __init__(cube_type,line=\"Legend\", primerate=(100,.2,.2)):\n",
    "        cube_type.line=line\n",
    "        cube_type.primerate=primerate\n",
    "\n"
   ]
  },
  {
   "cell_type": "code",
   "execution_count": 19,
   "metadata": {},
   "outputs": [
    {
     "data": {
      "text/html": [
       "<div>\n",
       "<style scoped>\n",
       "    .dataframe tbody tr th:only-of-type {\n",
       "        vertical-align: middle;\n",
       "    }\n",
       "\n",
       "    .dataframe tbody tr th {\n",
       "        vertical-align: top;\n",
       "    }\n",
       "\n",
       "    .dataframe thead th {\n",
       "        text-align: right;\n",
       "    }\n",
       "</style>\n",
       "<table border=\"1\" class=\"dataframe\">\n",
       "  <thead>\n",
       "    <tr style=\"text-align: right;\">\n",
       "      <th></th>\n",
       "      <th>Rare</th>\n",
       "      <th>Epic</th>\n",
       "      <th>Unique</th>\n",
       "      <th>Legend</th>\n",
       "      <th>Remarks</th>\n",
       "    </tr>\n",
       "    <tr>\n",
       "      <th>type</th>\n",
       "      <th></th>\n",
       "      <th></th>\n",
       "      <th></th>\n",
       "      <th></th>\n",
       "      <th></th>\n",
       "    </tr>\n",
       "  </thead>\n",
       "  <tbody>\n",
       "    <tr>\n",
       "      <th>Yellow</th>\n",
       "      <td>100,16.6667,16.6667</td>\n",
       "      <td>100,4.7619,4.7619</td>\n",
       "      <td>100,1.1857,1.1857</td>\n",
       "      <td>-</td>\n",
       "      <td>-</td>\n",
       "    </tr>\n",
       "    <tr>\n",
       "      <th>Purple</th>\n",
       "      <td>100,16.6667,16.6667</td>\n",
       "      <td>100,7.9994,7.9994</td>\n",
       "      <td>100,1.6959,1.6959</td>\n",
       "      <td>100,0.1996,0.1996</td>\n",
       "      <td>-</td>\n",
       "    </tr>\n",
       "    <tr>\n",
       "      <th>Red</th>\n",
       "      <td>100,10,1</td>\n",
       "      <td>100,10,1</td>\n",
       "      <td>100,10,1</td>\n",
       "      <td>100,10,1</td>\n",
       "      <td>-</td>\n",
       "    </tr>\n",
       "    <tr>\n",
       "      <th>Black</th>\n",
       "      <td>100,20,5</td>\n",
       "      <td>100,20,5</td>\n",
       "      <td>100,20,5</td>\n",
       "      <td>100,20,5</td>\n",
       "      <td>-</td>\n",
       "    </tr>\n",
       "    <tr>\n",
       "      <th>Hexa</th>\n",
       "      <td>100,10,1,1,10,1</td>\n",
       "      <td>100,10,1,1,10,1</td>\n",
       "      <td>100,10,1,1,10,1</td>\n",
       "      <td>100,10,1,1,10,1</td>\n",
       "      <td>assumed values</td>\n",
       "    </tr>\n",
       "    <tr>\n",
       "      <th>Equality</th>\n",
       "      <td>100,100,100</td>\n",
       "      <td>100,100,100</td>\n",
       "      <td>100,100,100</td>\n",
       "      <td>100,100,100</td>\n",
       "      <td>assumed values</td>\n",
       "    </tr>\n",
       "    <tr>\n",
       "      <th>Additional</th>\n",
       "      <td>100,1.9608,1.9608</td>\n",
       "      <td>100,4.7619,4.7619</td>\n",
       "      <td>100,1.9068,1.9068</td>\n",
       "      <td>100,0.4975,0.4975</td>\n",
       "      <td>-</td>\n",
       "    </tr>\n",
       "  </tbody>\n",
       "</table>\n",
       "</div>"
      ],
      "text/plain": [
       "                           Rare               Epic             Unique  \\\n",
       "type                                                                    \n",
       "Yellow      100,16.6667,16.6667  100,4.7619,4.7619  100,1.1857,1.1857   \n",
       "Purple      100,16.6667,16.6667  100,7.9994,7.9994  100,1.6959,1.6959   \n",
       "Red                    100,10,1           100,10,1           100,10,1   \n",
       "Black                  100,20,5           100,20,5           100,20,5   \n",
       "Hexa            100,10,1,1,10,1    100,10,1,1,10,1    100,10,1,1,10,1   \n",
       "Equality            100,100,100        100,100,100        100,100,100   \n",
       "Additional    100,1.9608,1.9608  100,4.7619,4.7619  100,1.9068,1.9068   \n",
       "\n",
       "                       Legend         Remarks  \n",
       "type                                           \n",
       "Yellow                      -               -  \n",
       "Purple      100,0.1996,0.1996               -  \n",
       "Red                  100,10,1               -  \n",
       "Black                100,20,5               -  \n",
       "Hexa          100,10,1,1,10,1  assumed values  \n",
       "Equality          100,100,100  assumed values  \n",
       "Additional  100,0.4975,0.4975               -  "
      ]
     },
     "execution_count": 19,
     "metadata": {},
     "output_type": "execute_result"
    }
   ],
   "source": [
    "df=pd.read_csv(\"Resources/prime rates.csv\", index_col=0)\n",
    "#df.Legend[\"Red\"] # referebce a cell\n",
    "df"
   ]
  },
  {
   "cell_type": "code",
   "execution_count": 15,
   "metadata": {},
   "outputs": [
    {
     "data": {
      "text/plain": [
       "'100,10,1'"
      ]
     },
     "execution_count": 15,
     "metadata": {},
     "output_type": "execute_result"
    }
   ],
   "source": [
    "df.Legend[\"Red\"]"
   ]
  },
  {
   "cell_type": "code",
   "execution_count": 16,
   "metadata": {},
   "outputs": [
    {
     "data": {
      "text/plain": [
       "'100,7.9994,7.9994'"
      ]
     },
     "execution_count": 16,
     "metadata": {},
     "output_type": "execute_result"
    }
   ],
   "source": [
    "df.loc[:,\"Epic\"][\"Purple\"]"
   ]
  },
  {
   "cell_type": "code",
   "execution_count": 17,
   "metadata": {},
   "outputs": [
    {
     "data": {
      "text/plain": [
       "(100.0, 7.9994, 7.9994)"
      ]
     },
     "execution_count": 17,
     "metadata": {},
     "output_type": "execute_result"
    }
   ],
   "source": [
    "tuple(map(float, df.loc[:,\"Epic\"][\"Purple\"].split(',')))"
   ]
  },
  {
   "cell_type": "code",
   "execution_count": null,
   "metadata": {},
   "outputs": [],
   "source": []
  }
 ],
 "metadata": {
  "interpreter": {
   "hash": "94e1e9c0c49d66e1a76b7616eec149a1a4c7868535f95d815a863d36db2497cf"
  },
  "kernelspec": {
   "display_name": "Python 3.10.4 64-bit (windows store)",
   "language": "python",
   "name": "python3"
  },
  "language_info": {
   "codemirror_mode": {
    "name": "ipython",
    "version": 3
   },
   "file_extension": ".py",
   "mimetype": "text/x-python",
   "name": "python",
   "nbconvert_exporter": "python",
   "pygments_lexer": "ipython3",
   "version": "3.10.4"
  },
  "orig_nbformat": 4
 },
 "nbformat": 4,
 "nbformat_minor": 2
}
